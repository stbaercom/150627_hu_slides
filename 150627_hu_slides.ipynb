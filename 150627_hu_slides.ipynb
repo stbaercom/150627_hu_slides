{
 "cells": [
  {
   "cell_type": "code",
   "execution_count": 184,
   "metadata": {
    "collapsed": false,
    "slideshow": {
     "slide_type": "skip"
    }
   },
   "outputs": [],
   "source": [
    "%matplotlib inline"
   ]
  },
  {
   "cell_type": "markdown",
   "metadata": {
    "slideshow": {
     "slide_type": "slide"
    }
   },
   "source": [
    "<h1 class=\"title\">Text Classification and Clustering</h1>\n",
    "<ul>\n",
    "<li>Research Seminar Information Retrieval\n",
    "<li>Humboldt-University Berlin\n",
    "<li>2015-07-01\n",
    "<li>Stefan Baerisch\n",
    "<ul/>"
   ]
  },
  {
   "cell_type": "markdown",
   "metadata": {
    "slideshow": {
     "slide_type": "slide"
    }
   },
   "source": [
    "# Gliederung\n",
    "- **Einleitung** - Von was reden wir und warum\n",
    "- **Machine Learning** - Gemeinsame Grundlagen von *Classification* und *Clustering*\n",
    "- **Eigenschaften von Texte** - Darstellung von Texten und *Feature Engineering*\n",
    "- **Clustering** - Als ein Beispiel von *Non-Supervised* Machine Learning. Mit *Hierarchical Clustering* und k-Means Clustering als Beispiele*\n",
    "- **Classification** - Als ein Beispiel von *Supervised* Learning. Mit *k-nearest Neighbors*, *Naive Bayes* und *Decision Trees* als Beispiel.\n",
    "- **Abschluss und Ausblick** - Ein  Rückschau und Themen, die sonst nicht gepasst haben."
   ]
  },
  {
   "cell_type": "markdown",
   "metadata": {
    "slideshow": {
     "slide_type": "slide"
    }
   },
   "source": [
    "## Was ist Machine Learning\n",
    "\n",
    "* *Machine Learning* ist ein automatisiertes Verfahren, das auf Grundlage eines *Modells* Aussagen zu Eingaben macht.\n",
    "* Eingaben können, Texte, Bilder, Zahlen, Sprache sein.\n",
    "* Ausgaben können Vorhersagen zu Werten, Klassenzugehörigkeiten, oder Steuerungsbefehle sein.\n",
    "* *Learning* bedeutet, dass das Modell trainiert wird, in der Regel durch Beispieldaten.\n",
    "\n",
    "Classification und Clustering sind zwei Beispiel für Machine Learning. Zahlreiche andere existieren."
   ]
  },
  {
   "cell_type": "markdown",
   "metadata": {
    "slideshow": {
     "slide_type": "slide"
    }
   },
   "source": [
    "## Wie wird Machine Learning verwendet?\n",
    "\n",
    "* Online Werbung - Die schnelle Entscheidung aufgrund zahlreicher Daten (Profil und aktuelle Eingaben), welche Werbenachricht die höchste Erfolgschance hat.\n",
    "* Wartungsvorhersage - Für komplexe Maschinen mit Telemetrie, wie lässt sich ein Problem vorhersagen, bevor aus auftritt?\n",
    "* Vorhersage von Erkrankungen aus Suchanfragen (Flutrends) und Schwangerschaften aus der Kaufhistorie (Target)\n",
    "\n",
    "Machine Lerning wird im Kern vorhersagend eingesetzt. Dies ist ein Kernunterschied zu Verfahren, die Daten beschreiben."
   ]
  },
  {
   "cell_type": "markdown",
   "metadata": {
    "slideshow": {
     "slide_type": "slide"
    }
   },
   "source": [
    "## Was ist dieser Vortrag und wofür ist er gut?\n",
    "\n",
    "- Dies sehr schneller Überblick zu Classification und Clustering, mit etwas Machine Learning als Hintergrund\n",
    "- Sie sollten Folgendes mitnehmen:\n",
    "    - Klassifizierung und Clustering sind als Konzept in kompliziert\n",
    "    - Es gibt eine ganze Reihe möglicher Verfahren\n",
    "    - Die Vorbereitung von Daten ist entscheidend für die Ergebnisse, speziell für Texte\n"
   ]
  },
  {
   "cell_type": "markdown",
   "metadata": {
    "slideshow": {
     "slide_type": "slide"
    }
   },
   "source": [
    "## Zum Aufbau und Inhalt\n",
    "\n",
    "- Ich verwende englische Begriffe wo diese geläufiger sind. \n",
    "- Die Präsentation steht zum Download auf Github.\n",
    "- Der Beispielcode ist Python 2. Ich empfehle [Anaconda](http://continuum.io/downloads)\n",
    "- Die Testdaten sind der _4 Universities Data Set_, [hier](http://www.cs.cmu.edu/afs/cs/project/theo-20/www/data/) zum Download\n"
   ]
  },
  {
   "cell_type": "markdown",
   "metadata": {
    "slideshow": {
     "slide_type": "slide"
    }
   },
   "source": [
    "##Quellcode und Praxis\n",
    "- Einige Folien enthalten Quellcode. Das ist für jene, die es interessiert.\n",
    "- Für die Nichtprogrammier - Einfach zuhören. "
   ]
  },
  {
   "cell_type": "code",
   "execution_count": 185,
   "metadata": {
    "collapsed": false,
    "slideshow": {
     "slide_type": "-"
    }
   },
   "outputs": [],
   "source": [
    "# Baseline Classifier : Weist jedem Wert die häufigste Klasse zu.\n",
    "from collections import Counter\n",
    "model = Counter()\n",
    "def train(value, cls):model.update([cls])\n",
    "def fit(value):return model.most_common(1)[0][0]"
   ]
  },
  {
   "cell_type": "code",
   "execution_count": 4,
   "metadata": {
    "collapsed": false
   },
   "outputs": [
    {
     "data": {
      "text/plain": [
       "'fruit'"
      ]
     },
     "execution_count": 4,
     "metadata": {},
     "output_type": "execute_result"
    }
   ],
   "source": [
    "#Drei Aufrufe von train, \n",
    "train(\"Banana\",\"fruit\")\n",
    "train(\"Apple\",\"fruit\")\n",
    "train(\"Bean\",\"Vegetable\")\n",
    "fit(\"Tomato\")"
   ]
  },
  {
   "cell_type": "markdown",
   "metadata": {
    "slideshow": {
     "slide_type": "slide"
    }
   },
   "source": [
    "# Machine Learning"
   ]
  },
  {
   "cell_type": "markdown",
   "metadata": {
    "slideshow": {
     "slide_type": "slide"
    }
   },
   "source": [
    "## Modelle und Einsatz von Modellen 1\n",
    "- Ein Modell ist eine Vereinfachung zu einem bestimmten Zweck\n",
    "- Ein Beispiel sind Karten in unterschiedlichen Maßstäben und mit unterschiedlichen Darstellungen\n",
    "- Jedes Modell ist ein Kompromiss\n",
    "    - Qualität der Vorhersagen\n",
    "    - Komplexität und Verständlichkeit\n",
    "    - Laufzeitverhalten\n",
    "    - Aufwand der Implmentierung\n",
    "    - Folgen von Fehlern\n"
   ]
  },
  {
   "cell_type": "markdown",
   "metadata": {
    "slideshow": {
     "slide_type": "slide"
    }
   },
   "source": [
    "## Modelle und Einsatz von Modellen 2\n",
    "- Beim Machine Learning werden Modelle vorbereitet und dann trainiert.\n",
    "- Dies geschieht in einem iterativen Prozess"
   ]
  },
  {
   "cell_type": "markdown",
   "metadata": {
    "slideshow": {
     "slide_type": "-"
    }
   },
   "source": [
    "<center>\n",
    "<img class=\"logo\" src=\"bilder/prozess.png\" class=\"bspic\" width=700 />\n",
    "<span>Data Science Prozess. Angepasst aus aus Data Science for Business, O'Reilly Media, 2013</span>\n",
    "</center>"
   ]
  },
  {
   "cell_type": "markdown",
   "metadata": {
    "slideshow": {
     "slide_type": "slide"
    }
   },
   "source": [
    "## Modelle und Einsatz von Modellen 3\n",
    "- **Problem verstehen** Der wichtigste Punkt, und organisatorisch der schwierigste\n",
    "- **Daten verstehen** Was für Überraschungen gibt es in den Daten?\n",
    "- **Daten vorbereiten** In der Praxis häufig am Aufwendigsten\n",
    "- **Modell erstellen** \n",
    "    - Auswahl der Verfahrens und der Bewertungsfunktion\n",
    "    - Auswahl der Feature\n",
    "    - Parametrisierung des Modells\n",
    "    - Ausführungen des Trainings\n",
    "- **Modell erproben** Wie gut ist das Modell auf Trainingsdaten und auf Testdaten?\n",
    "- **Modell einsetzen** Dies kann mit einer technischen Reimplementierung einhergehen."
   ]
  },
  {
   "cell_type": "markdown",
   "metadata": {
    "slideshow": {
     "slide_type": "slide"
    }
   },
   "source": [
    "## Features und Werte\n",
    "\n",
    "- Feature sind jene Eigenschaften von Entitäten, mit denen Modelle arbeiten\n",
    "- Feature können transformiert verwendet werden\n",
    "- Oft findet eine Umwandlung in Zahlen statt\n",
    "- Die Anzahl der Feature ist die Dimensionalität der Daten\n",
    "- Text ist hochdimensional"
   ]
  },
  {
   "cell_type": "markdown",
   "metadata": {
    "slideshow": {
     "slide_type": "slide"
    }
   },
   "source": [
    "# Besondere Eigenschaften von Texten"
   ]
  },
  {
   "cell_type": "markdown",
   "metadata": {
    "slideshow": {
     "slide_type": "slide"
    }
   },
   "source": [
    "## Beispiel für den Vortrag\n",
    "- Der webkb Datenbestand besteht aus Universitätswebseiten vom Ende der 90er Jahre\n",
    "- Ursprüngliche Anwendung war die Klassifizierung nach der Art der Seite\n",
    "    - Person, Lehrveranstaltung, etc...\n",
    "- Die Daten liegen als HTML vor, insgesamt ~8000 Dokumente"
   ]
  },
  {
   "cell_type": "code",
   "execution_count": 5,
   "metadata": {
    "collapsed": false
   },
   "outputs": [
    {
     "name": "stdout",
     "output_type": "stream",
     "text": [
      "webkb\r\n",
      "├── course\r\n",
      "│   ├── cornell\r\n",
      "│   │   ├── http:^^cs.cornell.edu^Info^Courses^Current^CS415^CS414.html\r\n",
      "│   │   ├── http:^^cs.cornell.edu^Info^Courses^Fall-95^CS415^CS415.html\r\n",
      "│   │   ├── http:^^cs.cornell.edu^Info^Courses^Spring-96^CS432^cs432.html\r\n",
      "│   │   ├── http:^^simon.cs.cornell.edu^Info^Courses^Current^CS401^\r\n",
      "│   │   ├── http:^^simon.cs.cornell.edu^Info^Courses^Spring-96^CS515^\r\n",
      "│   │   ├── http:^^www.cs.cornell.edu^Info^Courses^Current^CS100A^home.html\r\n",
      "│   │   ├── http:^^www.cs.cornell.edu^Info^Courses^Current^CS100B^home.html\r\n"
     ]
    }
   ],
   "source": [
    "!tree webkb | head -n10"
   ]
  },
  {
   "cell_type": "markdown",
   "metadata": {
    "slideshow": {
     "slide_type": "slide"
    }
   },
   "source": [
    "## Ein Beispieldokument"
   ]
  },
  {
   "cell_type": "code",
   "execution_count": 154,
   "metadata": {
    "collapsed": false,
    "slideshow": {
     "slide_type": "-"
    }
   },
   "outputs": [
    {
     "data": {
      "text/html": [
       "\n",
       "        <iframe\n",
       "            width=\"700\"\n",
       "            height=\"500\"\n",
       "            src=\"./webkb/course/cornell/http:^^cs.cornell.edu^Info^Courses^Current^CS415^CS414.html\"\n",
       "            frameborder=\"0\"\n",
       "            allowfullscreen\n",
       "        ></iframe>\n",
       "        "
      ],
      "text/plain": [
       "<IPython.lib.display.IFrame at 0x113422e50>"
      ]
     },
     "execution_count": 154,
     "metadata": {},
     "output_type": "execute_result"
    }
   ],
   "source": [
    "filename = './webkb/course/cornell/http:^^cs.cornell.edu^Info^Courses^Current^CS415^CS414.html'\n",
    "from IPython.display import IFrame\n",
    "IFrame(filename, width=700, height=500)"
   ]
  },
  {
   "cell_type": "markdown",
   "metadata": {
    "slideshow": {
     "slide_type": "slide"
    }
   },
   "source": [
    "## Feature Extraction für Texte\n",
    "- Texte müssen für die hier besprochenen Verfahren in eine passende Form gebraucht werden\n",
    "- Dies umfasst technische und inhaltliche Vorbereitung\n",
    "    - Entfernen von HTML Tags\n",
    "    - Aufteilung in Terme oder N-Gramme\n",
    "    - Löschen von nicht relevanten oder störenden Inhalten\n",
    "    - Verkleinerung des Vokabulars\n",
    "    - Umwandeln in eine Dokument-Term Matrix\n",
    "    - Festlegung der Termgewichte in der Matrix"
   ]
  },
  {
   "cell_type": "markdown",
   "metadata": {
    "slideshow": {
     "slide_type": "slide"
    }
   },
   "source": [
    "## Die ersten 1000 Zeichen des ersten Dokuments"
   ]
  },
  {
   "cell_type": "code",
   "execution_count": 7,
   "metadata": {
    "collapsed": false
   },
   "outputs": [
    {
     "data": {
      "text/plain": [
       "'MIME-Version: 1.0\\r\\nServer: CERN/3.0\\r\\nDate: Sunday, 01-Dec-96 19:26:46 GMT\\r\\nContent-Type: text/html\\r\\nContent-Length: 1973\\r\\nLast-Modified: Tuesday, 26-Nov-96 18:07:47 GMT\\r\\n\\r\\n<html> <head>\\n<title>CS414 Home Page</title>\\n</head>\\n\\n<body>\\n<center><img src = \"Icons/cs414.gif\"></center>\\n<center><h2>CS414: Systems Programming and Operating Systems</h1></center>\\n<center><h2>\\n<a href = \"cs415.html\">CS415 Practicum in Operating System</a>\\n</h2></center>\\n<center><h2>Kenneth P. Birman</h2></center>\\n<hr>\\n\\n<h3><a href = \"news://newsstand.cit.cornell.edu/cornell.class.cs414\">CS414/415 News Group</a></h3>\\n\\n<h3><a href = \"syllabus.ps\">Course Syllabus</a></h3>\\n\\n<h3>Lecture Notes</h3>\\n<ul>\\n  <li><a href = \"filesys.ps\">Unix Filesystem Structure</a>\\n  <li><a href = \"linking.ps\">Linking (Static and Dynamic)</a>\\n</ul>\\n\\n<h3>Assignments</h3>\\n<ul>\\n  <li><a href = \"hw1.ps\">Homework 1</a>\\n  <li><a href = \"hw2.ps\">Homework 2</a>\\n  <li><a href = \"hw3.ps\">Homework 3</a>\\n  <li><a href = \"hw4.ps\">Homework 4</a>\\n  <li><a'"
      ]
     },
     "execution_count": 7,
     "metadata": {},
     "output_type": "execute_result"
    }
   ],
   "source": [
    "txt_1 = open(filename).read()\n",
    "txt_1[:1000]\n"
   ]
  },
  {
   "cell_type": "markdown",
   "metadata": {
    "slideshow": {
     "slide_type": "slide"
    }
   },
   "source": [
    "## Entfernen der HTML Tags"
   ]
  },
  {
   "cell_type": "code",
   "execution_count": 8,
   "metadata": {
    "collapsed": false
   },
   "outputs": [
    {
     "data": {
      "text/plain": [
       "u'MIME-Version: 1.0\\r\\nServer: CERN/3.0\\r\\nDate: Sunday, 01-Dec-96 19:26:46 GMT\\r\\nContent-Type: text/html\\r\\nContent-Length: 1973\\r\\nLast-Modified: Tuesday, 26-Nov-96 18:07:47 GMT\\r\\n\\r\\n \\nCS414 Home Page\\n\\nCS414: Systems Programming and Operating Systems\\n\\nCS415 Practicum in Operating System\\n\\nKenneth P. Birman\\n\\nCS414/415 News Group\\nCourse Syllabus\\nLecture Notes\\n\\nUnix Filesystem Structure\\nLinking (Static and Dynamic)\\n\\nAssignments\\n\\nHomework 1\\nHomework 2\\nHomework 3\\nHomework 4\\nHomework 6\\n\\nAssignment Solutions\\n\\nSolution 1\\nSolution 2\\nSolution 4\\nSolution 5\\n\\nPrelim 1 Solution\\n\\nTAs\\n\\nLiLi\\n     5162 Upson Hall\\n     Phone: 255-7421\\n     E-Mail: \\n     lili@cs.cornell.edu\\n     Office Hours: Wednesday and Friday 3:30-5:00\\nYi-Cheng Huang\\n     5151 Upson Hall\\n     Phone: 255-3042\\n     E-Mail: \\n     ychuang@cs.cornell.edu\\n     Office Hours: Tuesday and Thursday 2:00-3:30\\nMihai Budiu\\n     4132 Upson Hall\\n     Phone: 255-1179\\n     E-Mail: \\n     budiu@cs.cornell.edu\\n     Office Hours: Wednesday 11:00-12:30 and Thursday 11:30-1:00\\n\\n\\n\\n\\nLast modified: Tue Nov 26 13:07:45 1996\\n\\n'"
      ]
     },
     "execution_count": 8,
     "metadata": {},
     "output_type": "execute_result"
    }
   ],
   "source": [
    "from bs4 import BeautifulSoup\n",
    "txt_2 = BeautifulSoup(txt_1).get_text()\n",
    "txt_2"
   ]
  },
  {
   "cell_type": "markdown",
   "metadata": {
    "slideshow": {
     "slide_type": "slide"
    }
   },
   "source": [
    "## Umwandlung in Tokens"
   ]
  },
  {
   "cell_type": "code",
   "execution_count": 9,
   "metadata": {
    "collapsed": false
   },
   "outputs": [
    {
     "name": "stdout",
     "output_type": "stream",
     "text": [
      "[u'MIME-Version', u':', u'1.0', u'Server', u':', u'CERN/3.0', u'Date', u':', u'Sunday', u',', u'01-Dec-96', u'19:26:46', u'GMT', u'Content-Type', u':', u'text/html', u'Content-Length', u':', u'1973', u'Last-Modified', u':', u'Tuesday', u',', u'26-Nov-96', u'18:07:47', u'GMT', u'CS414', u'Home', u'Page', u'CS414', u':', u'Systems', u'Programming', u'and', u'Operating', u'Systems', u'CS415', u'Practicum', u'in', u'Operating', u'System', u'Kenneth', u'P.', u'Birman', u'CS414/415', u'News', u'Group', u'Course', u'Syllabus', u'Lecture', u'Notes', u'Unix', u'Filesystem', u'Structure', u'Linking', u'(', u'Static', u'and', u'Dynamic', u')', u'Assignments', u'Homework', u'1', u'Homework', u'2', u'Homework', u'3', u'Homework', u'4', u'Homework', u'6', u'Assignment', u'Solutions', u'Solution', u'1', u'Solution', u'2', u'Solution', u'4', u'Solution', u'5', u'Prelim', u'1', u'Solution', u'TAs', u'LiLi', u'5162', u'Upson', u'Hall', u'Phone', u':', u'255-7421', u'E-Mail', u':', u'lili', u'@', u'cs.cornell.edu', u'Office', u'Hours', u':', u'Wednesday', u'and', u'Friday', u'3:30-5:00', u'Yi-Cheng', u'Huang', u'5151', u'Upson', u'Hall', u'Phone', u':', u'255-3042', u'E-Mail', u':', u'ychuang', u'@', u'cs.cornell.edu', u'Office', u'Hours', u':', u'Tuesday', u'and', u'Thursday', u'2:00-3:30', u'Mihai', u'Budiu', u'4132', u'Upson', u'Hall', u'Phone', u':', u'255-1179', u'E-Mail', u':', u'budiu', u'@', u'cs.cornell.edu', u'Office', u'Hours', u':', u'Wednesday', u'11:00-12:30', u'and', u'Thursday', u'11:30-1:00', u'Last', u'modified', u':', u'Tue', u'Nov', u'26', u'13:07:45', u'1996']\n",
      "153\n"
     ]
    }
   ],
   "source": [
    "import nltk\n",
    "tokens_1 = nltk.word_tokenize(txt_2)\n",
    "print tokens_1\n",
    "print len(tokens_1)"
   ]
  },
  {
   "cell_type": "markdown",
   "metadata": {
    "slideshow": {
     "slide_type": "slide"
    }
   },
   "source": [
    "## Löschen von nicht relevanten Tokens nach Struktur\n",
    "Relevanz ist in der Praxis schwer zu beurteilen"
   ]
  },
  {
   "cell_type": "code",
   "execution_count": 10,
   "metadata": {
    "collapsed": false
   },
   "outputs": [
    {
     "name": "stdout",
     "output_type": "stream",
     "text": [
      "[u'mime-version', u'server', u'cern/3.0', u'date', u'sunday', u'gmt', u'content-type', u'text/html', u'content-length', u'last-modified', u'tuesday', u'gmt', u'cs414', u'home', u'page', u'cs414', u'systems', u'programming', u'and', u'operating', u'systems', u'cs415', u'practicum', u'in', u'operating', u'system', u'kenneth', u'p.', u'birman', u'cs414/415', u'news', u'group', u'course', u'syllabus', u'lecture', u'notes', u'unix', u'filesystem', u'structure', u'linking', u'static', u'and', u'dynamic', u'assignments', u'homework', u'homework', u'homework', u'homework', u'homework', u'assignment', u'solutions', u'solution', u'solution', u'solution', u'solution', u'prelim', u'solution', u'tas', u'lili', u'upson', u'hall', u'phone', u'e-mail', u'lili', u'cs.cornell.edu', u'office', u'hours', u'wednesday', u'and', u'friday', u'yi-cheng', u'huang', u'upson', u'hall', u'phone', u'e-mail', u'ychuang', u'cs.cornell.edu', u'office', u'hours', u'tuesday', u'and', u'thursday', u'mihai', u'budiu', u'upson', u'hall', u'phone', u'e-mail', u'budiu', u'cs.cornell.edu', u'office', u'hours', u'wednesday', u'and', u'thursday', u'last', u'modified', u'tue', u'nov']\n",
      "100\n"
     ]
    }
   ],
   "source": [
    "import re\n",
    "tokens_2 = [t.lower() for t in tokens_1 if not re.match(r\"[^a-zA-Z]\",t)]\n",
    "print tokens_2\n",
    "print len(tokens_2)"
   ]
  },
  {
   "cell_type": "markdown",
   "metadata": {
    "slideshow": {
     "slide_type": "slide"
    }
   },
   "source": [
    "## Entfernung von fest definierten Stopwörtern"
   ]
  },
  {
   "cell_type": "code",
   "execution_count": 11,
   "metadata": {
    "collapsed": false,
    "scrolled": true
   },
   "outputs": [
    {
     "name": "stdout",
     "output_type": "stream",
     "text": [
      "[u'server', u'cern/3.0', u'date', u'sunday', u'gmt', u'tuesday', u'gmt', u'cs414', u'home', u'page', u'cs414', u'systems', u'programming', u'operating', u'systems', u'cs415', u'practicum', u'operating', u'system', u'kenneth', u'p.', u'birman', u'cs414/415', u'news', u'group', u'course', u'syllabus', u'lecture', u'notes', u'unix', u'filesystem', u'structure', u'linking', u'static', u'dynamic', u'assignments', u'homework', u'homework', u'homework', u'homework', u'homework', u'assignment', u'solutions', u'solution', u'solution', u'solution', u'solution', u'prelim', u'solution', u'tas', u'lili', u'upson', u'hall', u'phone', u'e-mail', u'lili', u'cs.cornell.edu', u'office', u'hours', u'wednesday', u'friday', u'yi-cheng', u'huang', u'upson', u'hall', u'phone', u'e-mail', u'ychuang', u'cs.cornell.edu', u'office', u'hours', u'tuesday', u'thursday', u'mihai', u'budiu', u'upson', u'hall', u'phone', u'e-mail', u'budiu', u'cs.cornell.edu', u'office', u'hours', u'wednesday', u'thursday', u'last', u'modified', u'tue', u'nov']\n",
      "89\n"
     ]
    }
   ],
   "source": [
    "stopwords_en = nltk.corpus.stopwords.words('english')\n",
    "stopwords_txt = ['mime-version','content-type','text/html','content-length','last-modified']\n",
    "tokens_3 = [t for t in tokens_2 if t not in stopwords_en + stopwords_txt]\n",
    "print tokens_3\n",
    "print len(tokens_3)"
   ]
  },
  {
   "cell_type": "markdown",
   "metadata": {
    "slideshow": {
     "slide_type": "slide"
    }
   },
   "source": [
    "## Exploration der Daten"
   ]
  },
  {
   "cell_type": "code",
   "execution_count": 12,
   "metadata": {
    "collapsed": false
   },
   "outputs": [
    {
     "data": {
      "text/plain": [
       "[(u'homework', 5),\n",
       " (u'solution', 5),\n",
       " (u'cs.cornell.edu', 3),\n",
       " (u'office', 3),\n",
       " (u'e-mail', 3),\n",
       " (u'hall', 3),\n",
       " (u'hours', 3),\n",
       " (u'phone', 3),\n",
       " (u'upson', 3),\n",
       " (u'cs414', 2)]"
      ]
     },
     "execution_count": 12,
     "metadata": {},
     "output_type": "execute_result"
    }
   ],
   "source": [
    "from collections import Counter\n",
    "counter = Counter(tokens_3)\n",
    "counter.most_common(10)"
   ]
  },
  {
   "cell_type": "markdown",
   "metadata": {
    "slideshow": {
     "slide_type": "slide"
    }
   },
   "source": [
    "## Vorbereitung der weiteren Schritte\n",
    "Die Klassen sind Teil des Pfads innerhalb des Datenbestands"
   ]
  },
  {
   "cell_type": "code",
   "execution_count": 13,
   "metadata": {
    "collapsed": false
   },
   "outputs": [
    {
     "name": "stdout",
     "output_type": "stream",
     "text": [
      "8230\n"
     ]
    }
   ],
   "source": [
    "import glob\n",
    "filenames = glob.glob(\"./webkb/*/*/http*\")\n",
    "print len(filenames)\n"
   ]
  },
  {
   "cell_type": "code",
   "execution_count": 34,
   "metadata": {
    "collapsed": false
   },
   "outputs": [
    {
     "name": "stdout",
     "output_type": "stream",
     "text": [
      "./webkb/course/cornell/http:^^cs.cornell.edu^Info^Courses^Current^CS415^CS414.html\n",
      "course\n",
      "['course', 'course', 'course', 'course', 'course']\n"
     ]
    }
   ],
   "source": [
    "print filenames[0]\n",
    "print filenames[0].split(\"/\")[2]\n",
    "target_classes = [f.split(\"/\")[2] for f in filenames]\n",
    "print target_classes[:5]"
   ]
  },
  {
   "cell_type": "markdown",
   "metadata": {
    "slideshow": {
     "slide_type": "slide"
    }
   },
   "source": [
    "## Dokument Frequenz und Verbereitung\n",
    "- Die Dokument Frequenz ist eine interessante Eigenschaft bei der Feature Extraction\n",
    "- Terme, die in jedem Dokument gleich häufig vorkommen, sind für die Klassifikation und das Clustering wertlos\n",
    "    - Dies können hier HTML Tags sein\n",
    "- Terme, die nur in sehr wenigen Dokumenten vorkommen, können das Training verfälschen"
   ]
  },
  {
   "cell_type": "markdown",
   "metadata": {
    "slideshow": {
     "slide_type": "slide"
    }
   },
   "source": [
    "## Praktische Implementierung und Vergleich\n",
    "Je auf Aufbereitung der Dokumente variert die Größe des Vokabulars start"
   ]
  },
  {
   "cell_type": "code",
   "execution_count": 181,
   "metadata": {
    "collapsed": true,
    "slideshow": {
     "slide_type": "skip"
    }
   },
   "outputs": [],
   "source": [
    "from bs4 import BeautifulSoup\n",
    "import nltk\n",
    "import re\n",
    "import sklearn.feature_extraction\n",
    "filenames = glob.glob(\"./webkb/*/*/http*\")\n",
    "def bs_tokenize(txt):\n",
    "    txt = BeautifulSoup(txt).get_text().lower()\n",
    "    return [t for t in nltk.word_tokenize(txt) if not re.match(r\"[^a-z]\",t)]\n",
    "def prepare(filenames, **kwargs):\n",
    "    args = dict(input='filename',strip_accents = 'unicode', encoding='iso8859-1')\n",
    "    args.update(kwargs)\n",
    "    vectorizer = sklearn.feature_extraction.text.TfidfVectorizer(**args)\n",
    "    term_doc_mat = vectorizer.fit_transform(filenames)\n",
    "    return vectorizer,term_doc_mat"
   ]
  },
  {
   "cell_type": "code",
   "execution_count": 182,
   "metadata": {
    "collapsed": false,
    "slideshow": {
     "slide_type": "-"
    }
   },
   "outputs": [
    {
     "name": "stdout",
     "output_type": "stream",
     "text": [
      "Anzahl Terme im Dictionary, keine Filter                      9203\n",
      "Anzahl Terme im Dictionary, Filterung nach Muster             6426\n",
      "Anzahl Terme im Dictionary, Filterung nach Document Frequency  425\n"
     ]
    }
   ],
   "source": [
    "v1,tm1 = prepare(filenames[:200],max_df= 1.0, min_df = 1)\n",
    "v2,tm2 = prepare(filenames[:200],tokenizer = bs_tokenize)\n",
    "v3,tm3 = prepare(filenames[:200],max_df= 0.8, min_df = 0.1)\n",
    "print \"Anzahl Terme im Dictionary, keine Filter                      %4i\" % len(v1.vocabulary_)\n",
    "print \"Anzahl Terme im Dictionary, Filterung nach Muster             %4i\" % len(v2.vocabulary_)\n",
    "print \"Anzahl Terme im Dictionary, Filterung nach Document Frequency %4i\" % len(v3.vocabulary_)"
   ]
  },
  {
   "cell_type": "markdown",
   "metadata": {
    "slideshow": {
     "slide_type": "slide"
    }
   },
   "source": [
    "## Beispiel für die Anpassung der Filterung nach Dokumentenfrequenz"
   ]
  },
  {
   "cell_type": "code",
   "execution_count": 171,
   "metadata": {
    "collapsed": false,
    "slideshow": {
     "slide_type": "-"
    }
   },
   "outputs": [
    {
     "name": "stdout",
     "output_type": "stream",
     "text": [
      "9203\n",
      "['hcho', 'testbeds', 'yellow', 'fig4', 'fig2', 'fig3', 'fig1', 'msgs', 'section031700000000000000000', 'a8f96', 'opener', 'lori', 'pscinfo', 'digit', 'monrose', 'pierce', 'r6doc', 'bringing', 'basics', 'specify', 'jquast', 'rom_p3', 'rom_p2', 'rom_p1', 'webstar', 'rom_p5', 'rom_p4', 'straight', 'ciancu', 'miller', 'pulse', 'feasibility', '6pm', '276', '279', 'esok', 'errors', 'dialogs', 'contributed', 'fingers', '18185', 'usenet', 'designing', 'contributes', 'singhal', 'specialist', 'widget', 'reliably', 'formats', 'interdependent', 'reported', 'dorm', 'prob20', 'cse422', '223_278', 'projection', 'classification', 'brought', '9x', '9p', 'unit', 'mir131', 'derivatives', 'cheating', 'browse', 'occupying', 'therefore', 'standardized', 'successful', '324eb', 'jmp', 'worldterrain', 'yahoo', 'hurt', '99', 'glass', 'hw1_1', 'hw1_2', 'hw1_3', 'f8b060', 'jmc', '93', 'hold', '97', 'circumstances', 'locked', 'pursue', 'infotechsys', 'microlab', 'wang', 'organized', 'wans', 'fibonacci', 'bitcnt2', 'busch', 'hhmts', 'preferably', 'imageinfo', 'syntactic', 'travel']\n"
     ]
    }
   ],
   "source": [
    "import random\n",
    "from IPython.html.widgets import interact\n",
    "from IPython.html import widgets\n",
    "\n",
    "TEMP = None\n",
    "def prepare_interact_100(max_df,min_df):\n",
    "    global TEMP\n",
    "    cv,tm = prepare(filenames[:200],max_df= max_df, min_df = min_df)\n",
    "    print len(cv.vocabulary_)\n",
    "    current = set(cv.vocabulary_.keys())\n",
    "    if TEMP:\n",
    "        print [str(v) for v in list(TEMP.symmetric_difference(current))][:100]\n",
    "    TEMP = current\n",
    "\n",
    "max_df_w = widgets.FloatSlider(min=0.1,max=1.0,step=0.05,value=1.0)\n",
    "min_df_w = widgets.IntSlider(min=1,max=50,step=1,value=0)    \n",
    "interact(prepare_interact_100,max_df = max_df_w,min_df = min_df_w)"
   ]
  },
  {
   "cell_type": "markdown",
   "metadata": {
    "slideshow": {
     "slide_type": "slide"
    }
   },
   "source": [
    "## Vorbereitung der Daten\n",
    "- Für den weiteren Vortrag gibt es einige  Standardwerte\n",
    "    - Dies sind nicht unbedingt gute Werte, mehr Prüfung wäre notwendig\n",
    "- Es findet **keine** Filterung der Termstruktur statt\n",
    "    - Die Artefakte sind im Weiteren zu sehen   "
   ]
  },
  {
   "cell_type": "code",
   "execution_count": 162,
   "metadata": {
    "collapsed": false
   },
   "outputs": [
    {
     "data": {
      "text/plain": [
       "(TfidfVectorizer(analyzer=u'word', binary=False, charset=None,\n",
       "         charset_error=None, decode_error=u'strict',\n",
       "         dtype=<type 'numpy.int64'>, encoding='iso8859-1', input='filename',\n",
       "         lowercase=True, max_df=0.5, max_features=None, min_df=4,\n",
       "         ngram_range=(1, 1), norm=u'l2', preprocessor=None, smooth_idf=True,\n",
       "         stop_words=None, strip_accents='unicode', sublinear_tf=False,\n",
       "         token_pattern=u'(?u)\\\\b\\\\w\\\\w+\\\\b', tokenizer=None, use_idf=True,\n",
       "         vocabulary=None),\n",
       " <8230x27636 sparse matrix of type '<type 'numpy.float64'>'\n",
       " \twith 1482161 stored elements in Compressed Sparse Row format>)"
      ]
     },
     "execution_count": 162,
     "metadata": {},
     "output_type": "execute_result"
    }
   ],
   "source": [
    "idf_vec,term_mat = prepare(filenames,max_df= 0.5, min_df = 4)\n",
    "idf_vec, term_mat"
   ]
  },
  {
   "cell_type": "markdown",
   "metadata": {
    "slideshow": {
     "slide_type": "slide"
    }
   },
   "source": [
    "# Clustering"
   ]
  },
  {
   "cell_type": "markdown",
   "metadata": {
    "collapsed": true,
    "slideshow": {
     "slide_type": "slide"
    }
   },
   "source": [
    "## Clustering Prozess\n",
    "Clustering ist Non Supervised, es werden keine Trainingswerte verwendet"
   ]
  },
  {
   "cell_type": "markdown",
   "metadata": {},
   "source": [
    "<center>\n",
    "<img class=\"logo\" src=\"bilder/process3.png\" class=\"bspic\" width=700 />\n",
    "</center>"
   ]
  },
  {
   "cell_type": "markdown",
   "metadata": {
    "slideshow": {
     "slide_type": "slide"
    }
   },
   "source": [
    "## Entferungung und Clusterkriterium \n",
    "Die Entdfernung von Dokumenten, z.B. im Vectorraummodell, ist häufig Grundlage von Clusterzuordnungen"
   ]
  },
  {
   "cell_type": "markdown",
   "metadata": {},
   "source": [
    "<center>\n",
    "<img  src=\"bilder/clust_1.png\" class=\"bspic\" width=400 />\n",
    "</center>"
   ]
  },
  {
   "cell_type": "markdown",
   "metadata": {
    "slideshow": {
     "slide_type": "slide"
    }
   },
   "source": [
    "## K Means - Clustering\n",
    "K Means ist ein randomisierter, Iterativer Prozess mit vorheriger Auswahl der Custerzahl\n",
    "1. Wähle X Punkte als erste Clustermittelpunkte aus\n",
    "2. Weise alle Punkte dem nächsten Clustermittelpunkt zu\n",
    "3. Aktualsiere den Clustermittelpunkt (daher K-Means)\n",
    "4. Wiederhole 2 - 4 bis die Clusterzuordnungen stabil sind"
   ]
  },
  {
   "cell_type": "markdown",
   "metadata": {
    "slideshow": {
     "slide_type": "slide"
    }
   },
   "source": [
    "## K Means - Beispiel"
   ]
  },
  {
   "cell_type": "markdown",
   "metadata": {},
   "source": [
    "<center>\n",
    "<img  src=\"bilder/clust_2.png\" class=\"bspic\" width=700 />\n",
    "</center>"
   ]
  },
  {
   "cell_type": "markdown",
   "metadata": {
    "slideshow": {
     "slide_type": "slide"
    }
   },
   "source": [
    "## Programm zur Ausführung des Clusterings"
   ]
  },
  {
   "cell_type": "code",
   "execution_count": 128,
   "metadata": {
    "collapsed": false
   },
   "outputs": [
    {
     "name": "stdout",
     "output_type": "stream",
     "text": [
      "Cluster 0 has 1174 Elements \n",
      "Cluster 1 has 1136 Elements \n",
      "Cluster 2 has  736 Elements \n",
      "Cluster 3 has 3320 Elements \n",
      "Cluster 4 has 1864 Elements \n"
     ]
    }
   ],
   "source": [
    "import sklearn.cluster\n",
    "import numpy as np\n",
    "from collections import Counter\n",
    "\n",
    "def get_kmeans(num_clusters,term_matrix):\n",
    "    kmeans = sklearn.cluster.MiniBatchKMeans(num_clusters)\n",
    "    kmeans.fit(term_matrix)\n",
    "    return kmeans\n",
    "\n",
    "kmeans = get_kmeans(5,term_mat)\n",
    "labels=kmeans.labels_\n",
    "for v in Counter(labels).items():\n",
    "    print \"Cluster %s has %4i Elements \" % v"
   ]
  },
  {
   "cell_type": "markdown",
   "metadata": {
    "slideshow": {
     "slide_type": "slide"
    }
   },
   "source": [
    "## Darstellung der häufigsten Termine je Cluster"
   ]
  },
  {
   "cell_type": "code",
   "execution_count": null,
   "metadata": {
    "collapsed": true,
    "slideshow": {
     "slide_type": "skip"
    }
   },
   "outputs": [],
   "source": [
    "import pandas as pd\n",
    "\n",
    "def top_terms(num_clusters,km, vectorizer):\n",
    "    order_centroids = km.cluster_centers_.argsort()[:, ::-1]\n",
    "    terms = vectorizer.get_feature_names()\n",
    "    acum = {}\n",
    "    for i in range(num_clusters):\n",
    "        for i2 in order_centroids[i, :10]:\n",
    "            acum.setdefault(\"Cluster %s Term\" % i,[]).append(terms[i2])\n",
    "    return pd.DataFrame(acum)"
   ]
  },
  {
   "cell_type": "code",
   "execution_count": 178,
   "metadata": {
    "collapsed": false
   },
   "outputs": [
    {
     "data": {
      "text/html": [
       "<div style=\"max-height:1000px;max-width:1500px;overflow:auto;\">\n",
       "<table border=\"1\" class=\"dataframe\">\n",
       "  <thead>\n",
       "    <tr style=\"text-align: right;\">\n",
       "      <th></th>\n",
       "      <th>Cluster 0 Term</th>\n",
       "      <th>Cluster 1 Term</th>\n",
       "      <th>Cluster 2 Term</th>\n",
       "      <th>Cluster 3 Term</th>\n",
       "      <th>Cluster 4 Term</th>\n",
       "    </tr>\n",
       "  </thead>\n",
       "  <tbody>\n",
       "    <tr>\n",
       "      <th>0</th>\n",
       "      <td>photon</td>\n",
       "      <td>csmail</td>\n",
       "      <td>junk</td>\n",
       "      <td>cs106x</td>\n",
       "      <td>junk</td>\n",
       "    </tr>\n",
       "    <tr>\n",
       "      <th>1</th>\n",
       "      <td>317</td>\n",
       "      <td>fulton</td>\n",
       "      <td>lean</td>\n",
       "      <td>ning</td>\n",
       "      <td>nv</td>\n",
       "    </tr>\n",
       "    <tr>\n",
       "      <th>2</th>\n",
       "      <td>pat</td>\n",
       "      <td>1430</td>\n",
       "      <td>avalon</td>\n",
       "      <td>animators</td>\n",
       "      <td>lean</td>\n",
       "    </tr>\n",
       "    <tr>\n",
       "      <th>3</th>\n",
       "      <td>multics</td>\n",
       "      <td>215</td>\n",
       "      <td>debating</td>\n",
       "      <td>munich</td>\n",
       "      <td>mod</td>\n",
       "    </tr>\n",
       "    <tr>\n",
       "      <th>4</th>\n",
       "      <td>munich</td>\n",
       "      <td>photon</td>\n",
       "      <td>nv</td>\n",
       "      <td>amazingly</td>\n",
       "      <td>heisenberg</td>\n",
       "    </tr>\n",
       "    <tr>\n",
       "      <th>5</th>\n",
       "      <td>1947</td>\n",
       "      <td>cs106x</td>\n",
       "      <td>buchanan</td>\n",
       "      <td>571</td>\n",
       "      <td>incremented</td>\n",
       "    </tr>\n",
       "    <tr>\n",
       "      <th>6</th>\n",
       "      <td>diagrammatic</td>\n",
       "      <td>fail</td>\n",
       "      <td>palace</td>\n",
       "      <td>efficient</td>\n",
       "      <td>avalon</td>\n",
       "    </tr>\n",
       "    <tr>\n",
       "      <th>7</th>\n",
       "      <td>phrases</td>\n",
       "      <td>lean</td>\n",
       "      <td>cs106x</td>\n",
       "      <td>grids</td>\n",
       "      <td>215</td>\n",
       "    </tr>\n",
       "    <tr>\n",
       "      <th>8</th>\n",
       "      <td>paid</td>\n",
       "      <td>cows</td>\n",
       "      <td>cdc</td>\n",
       "      <td>filemanager1</td>\n",
       "      <td>mailed</td>\n",
       "    </tr>\n",
       "    <tr>\n",
       "      <th>9</th>\n",
       "      <td>20000</td>\n",
       "      <td>nv</td>\n",
       "      <td>concurrence</td>\n",
       "      <td>debating</td>\n",
       "      <td>buchanan</td>\n",
       "    </tr>\n",
       "  </tbody>\n",
       "</table>\n",
       "</div>"
      ],
      "text/plain": [
       "  Cluster 0 Term Cluster 1 Term Cluster 2 Term Cluster 3 Term Cluster 4 Term\n",
       "0         photon         csmail           junk         cs106x           junk\n",
       "1            317         fulton           lean           ning             nv\n",
       "2            pat           1430         avalon      animators           lean\n",
       "3        multics            215       debating         munich            mod\n",
       "4         munich         photon             nv      amazingly     heisenberg\n",
       "5           1947         cs106x       buchanan            571    incremented\n",
       "6   diagrammatic           fail         palace      efficient         avalon\n",
       "7        phrases           lean         cs106x          grids            215\n",
       "8           paid           cows            cdc   filemanager1         mailed\n",
       "9          20000             nv    concurrence       debating       buchanan"
      ]
     },
     "execution_count": 178,
     "metadata": {},
     "output_type": "execute_result"
    }
   ],
   "source": [
    "top_terms = top_terms(5,kmeans,idf_vec)\n",
    "top_terms"
   ]
  },
  {
   "cell_type": "markdown",
   "metadata": {
    "slideshow": {
     "slide_type": "slide"
    }
   },
   "source": [
    "## Visualisierung von Clustern - Grundlagen\n",
    "- Die Elemente des Clusters sind Punkte\n",
    "- Die Lage dieser Punkte lässt sich in 3 Dimension gut darstellen\n",
    "- Wenn es mehr Dimensionen / Features gibt, müssen wir entweder kombinieren oder auswählen\n",
    "- Hier sind es gut 28000 Feautures, die auf 2 Features heruntergebrochen werden"
   ]
  },
  {
   "cell_type": "markdown",
   "metadata": {
    "collapsed": true,
    "slideshow": {
     "slide_type": "slide"
    }
   },
   "source": [
    "## Visualisierung von Clustern - In der Praxis"
   ]
  },
  {
   "cell_type": "code",
   "execution_count": null,
   "metadata": {
    "collapsed": true,
    "slideshow": {
     "slide_type": "skip"
    }
   },
   "outputs": [],
   "source": [
    "from sklearn.decomposition import TruncatedSVD\n",
    "from itertools import cycle\n",
    "import matplotlib.pyplot as plt\n",
    "def draw_cluster(num_clusters,term_mat,labels):\n",
    "    colors = 'rgbcmykw'\n",
    "    tsvd = TruncatedSVD()\n",
    "    tsvd.fit(term_mat)\n",
    "    two_dim = tsvd.transform(term_mat)\n",
    "    plt.figure(figsize=(12,10)) \n",
    "    for i in range(num_clusters):\n",
    "        cluster_points = two_dim[np.where(labels == i)[0]]        \n",
    "        c = colors[min(i,len(colors)-1)]\n",
    "        l = \"Cluster %i\" % i\n",
    "        plt.scatter(x = cluster_points[:,1], y = cluster_points[:,0], c=c, alpha=0.5,label=l)\n",
    "    plt.legend(loc=4)\n",
    "    plt.show()"
   ]
  },
  {
   "cell_type": "code",
   "execution_count": 130,
   "metadata": {
    "collapsed": false
   },
   "outputs": [
    {
     "data": {
      "image/png": "[encoded data removed]",
      "text/plain": [
       "<matplotlib.figure.Figure at 0x10c2f8b10>"
      ]
     },
     "metadata": {},
     "output_type": "display_data"
    }
   ],
   "source": [
    "draw_cluster(5, term_mat, kmeans.labels_)"
   ]
  },
  {
   "cell_type": "markdown",
   "metadata": {
    "slideshow": {
     "slide_type": "slide"
    }
   },
   "source": [
    "## Hierarchisches Clustering"
   ]
  },
  {
   "cell_type": "markdown",
   "metadata": {
    "slideshow": {
     "slide_type": "slide"
    }
   },
   "source": [
    "## Hierarchisches Clustering - Theorie\n",
    "- Auch hier ist wieder die Entfernung von Punkte zueinander entscheidend.\n",
    "- Es werden solange die zwei jeweils nächsten Punkte verschmolzen, bis es nur noch einen Punkt gibt.\n",
    "- Der Vorteil des Verfahrens ist ein schöne Darstellung "
   ]
  },
  {
   "cell_type": "markdown",
   "metadata": {
    "slideshow": {
     "slide_type": "slide"
    }
   },
   "source": [
    "## Hierarchisches Clustering - Beispiel"
   ]
  },
  {
   "cell_type": "markdown",
   "metadata": {},
   "source": [
    "<center>\n",
    "<img  src=\"bilder/clust_3.png\" class=\"bspic\" width=700 />\n",
    "</center>"
   ]
  },
  {
   "cell_type": "markdown",
   "metadata": {
    "slideshow": {
     "slide_type": "slide"
    }
   },
   "source": [
    "## Hierarchisches Clustering - In der Praxis"
   ]
  },
  {
   "cell_type": "code",
   "execution_count": null,
   "metadata": {
    "collapsed": true,
    "slideshow": {
     "slide_type": "skip"
    }
   },
   "outputs": [],
   "source": [
    "import matplotlib.pyplot as plt\n",
    "from sklearn.metrics.pairwise import cosine_similarity\n",
    "from scipy.cluster.hierarchy import ward, dendrogram\n",
    "from sklearn.decomposition import TruncatedSVD\n",
    "def draw_hier_tree_2(term_matrix,dims = 50, docs = 500):\n",
    "    plt.figure(figsize=(12,10)) \n",
    "    tsvd = TruncatedSVD(n_components=dims)\n",
    "    red_dim = tsvd.fit_transform(term_matrix[:docs])\n",
    "    dist = 1 - cosine_similarity(red_dim)\n",
    "    dend = dendrogram(ward(dist))\n",
    "    plt.tight_layout() \n",
    "    plt.show()"
   ]
  },
  {
   "cell_type": "code",
   "execution_count": 131,
   "metadata": {
    "collapsed": false
   },
   "outputs": [
    {
     "data": {
      "image/png": "[encoded data removed]",
      "text/plain": [
       "<matplotlib.figure.Figure at 0x111855710>"
      ]
     },
     "metadata": {},
     "output_type": "display_data"
    }
   ],
   "source": [
    "draw_hier_tree_2(term_mat)"
   ]
  },
  {
   "cell_type": "markdown",
   "metadata": {
    "slideshow": {
     "slide_type": "slide"
    }
   },
   "source": [
    "# Classification"
   ]
  },
  {
   "cell_type": "markdown",
   "metadata": {
    "slideshow": {
     "slide_type": "slide"
    }
   },
   "source": [
    "## Classification - Prozess\n",
    "Classification ist ein Supervised Prozess. Label beschreiben die Klassenzugehörigkeit und werden dann zur Vorhersage genutzt."
   ]
  },
  {
   "cell_type": "markdown",
   "metadata": {},
   "source": [
    "<center>\n",
    "<img class=\"logo\" src=\"bilder/process2.png\" class=\"bspic\" width=700 />\n",
    "</center>"
   ]
  },
  {
   "cell_type": "markdown",
   "metadata": {
    "slideshow": {
     "slide_type": "slide"
    }
   },
   "source": [
    "## Classification - Ausprägungen\n",
    "Klassifikation kann zwischen zwei Klassen, mehreren Klassen, oder hierarchisch stattfinden"
   ]
  },
  {
   "cell_type": "markdown",
   "metadata": {},
   "source": [
    "<center>\n",
    "<img class=\"logo\" src=\"bilder/class_1_1.png\" class=\"bspic\" width=900 />\n",
    "</center>"
   ]
  },
  {
   "cell_type": "markdown",
   "metadata": {
    "slideshow": {
     "slide_type": "slide"
    }
   },
   "source": [
    "# Classification - OneVersusAll\n",
    "- Eine Möglichkeit, mehrere Klassen zu betrachten, ist der Vergleich mit den Dokumenten aller jeweils anderen Klassen\n",
    "- Die beste Klasse ist dann jene, die sich am Besten von der kombinierten Klaase abgrenzen lässt."
   ]
  },
  {
   "cell_type": "markdown",
   "metadata": {},
   "source": [
    "<center>\n",
    "<img class=\"logo\" src=\"bilder/class_2.png\" class=\"bspic\" width=700 />\n",
    "</center>"
   ]
  },
  {
   "cell_type": "markdown",
   "metadata": {
    "slideshow": {
     "slide_type": "slide"
    }
   },
   "source": [
    "# Classification - Wahrscheinlichkeiten\n",
    "- Neben der reinen Klassenzugehörigkeit ist oft die Wahrscheinlichkeit der Zugehörigkeit interessant\n",
    "- Ab welcher Wahrscheinlichkeit der Zugehörigkeit wird etwas getan, z.B. ein Dokument als relevant gewertet?"
   ]
  },
  {
   "cell_type": "markdown",
   "metadata": {},
   "source": [
    "<center>\n",
    "<img class=\"logo\" src=\"bilder/class_3.png\" class=\"bspic\" width=700 />\n",
    "</center>"
   ]
  },
  {
   "cell_type": "markdown",
   "metadata": {
    "slideshow": {
     "slide_type": "slide"
    }
   },
   "source": [
    "## Vorbereitung der Daten"
   ]
  },
  {
   "cell_type": "code",
   "execution_count": 175,
   "metadata": {
    "collapsed": true
   },
   "outputs": [],
   "source": [
    "from sklearn.cross_validation import train_test_split\n",
    "splitted = train_test_split(term_mat,target_classes,test_size=0.25, random_state=42)\n",
    "train_dtm, test_dtm, train_target, test_target = splitted"
   ]
  },
  {
   "cell_type": "markdown",
   "metadata": {
    "slideshow": {
     "slide_type": "slide"
    }
   },
   "source": [
    "## Decision Trees"
   ]
  },
  {
   "cell_type": "markdown",
   "metadata": {
    "slideshow": {
     "slide_type": "slide"
    }
   },
   "source": [
    "## Decision Trees - Die Theorie\n",
    "- Der grundlegende Gedanke ist, ein Feature auszuwählen, das die Dokument möglichst gut nach Label trennt.\n",
    "- Das Verfahren wird dann für die 'Äste' wiederholt."
   ]
  },
  {
   "cell_type": "markdown",
   "metadata": {
    "slideshow": {
     "slide_type": "slide"
    }
   },
   "source": [
    "## Decision Trees - Die Umsetzung"
   ]
  },
  {
   "cell_type": "code",
   "execution_count": 133,
   "metadata": {
    "collapsed": false
   },
   "outputs": [],
   "source": [
    "from sklearn import tree\n",
    "def classify_tree(term_matrix, targets):\n",
    "    clf = tree.DecisionTreeClassifier(criterion=\"entropy\",max_leaf_nodes = 100)\n",
    "    clf = clf.fit(term_matrix,targets)\n",
    "    return clf\n",
    "    \n",
    "clf = classify_tree(train_dtm.todense(), train_target)"
   ]
  },
  {
   "cell_type": "code",
   "execution_count": 134,
   "metadata": {
    "collapsed": false
   },
   "outputs": [],
   "source": [
    "import os\n",
    "tree.export_graphviz(clf,feature_names = idf_vec.get_feature_names(), max_depth = 5 ,out_file='tree.dot')                \n",
    "!dot -Tpng tree.dot -o tree.png "
   ]
  },
  {
   "cell_type": "markdown",
   "metadata": {
    "slideshow": {
     "slide_type": "slide"
    }
   },
   "source": [
    "## Der Entscheidungsbaum"
   ]
  },
  {
   "cell_type": "markdown",
   "metadata": {},
   "source": [
    "<center>\n",
    "<img  src=\"tree.png\" class=\"bspic\" width=1000 />\n",
    "</center>"
   ]
  },
  {
   "cell_type": "code",
   "execution_count": 135,
   "metadata": {
    "collapsed": true
   },
   "outputs": [],
   "source": [
    "!open tree.png"
   ]
  },
  {
   "cell_type": "markdown",
   "metadata": {
    "slideshow": {
     "slide_type": "slide"
    }
   },
   "source": [
    "## Naive Bayes\n"
   ]
  },
  {
   "cell_type": "markdown",
   "metadata": {
    "slideshow": {
     "slide_type": "slide"
    }
   },
   "source": [
    "## Naive Bayes - Die Theorie\n",
    "\n",
    "Die Formel sieht komplex aus:\n",
    "$$ P(c|d)\\propto P(c)\\prod _{ 1\\le k\\le { n }_{ d } }^{  }{ P({ t }_{ k }|c) } $$\n",
    "Der Wesentliche Gedanke ist, dass die Klassenzugehörig von zwei Aspekten abhängt:\n",
    "- Der Wahrscheinlichkeit der Klasse\n",
    "- Die multiplizierte Wahrscheinlichkeit für jeden Term, dass dieser in der Klasse erscheint."
   ]
  },
  {
   "cell_type": "markdown",
   "metadata": {
    "slideshow": {
     "slide_type": "slide"
    }
   },
   "source": [
    "## Naive Bayes - Praxis und Evaluation"
   ]
  },
  {
   "cell_type": "code",
   "execution_count": null,
   "metadata": {
    "collapsed": true,
    "slideshow": {
     "slide_type": "skip"
    }
   },
   "outputs": [],
   "source": [
    "from sklearn.naive_bayes import MultinomialNB\n",
    "from sklearn.metrics import confusion_matrix\n",
    "from sklearn.cross_validation import train_test_split\n",
    "splitted = train_test_split(term_mat,target_classes,test_size=0.25, random_state=42)\n",
    "train_dtm, test_dtm, train_target, test_target = splitted\n",
    "bayes_cls = MultinomialNB()\n",
    "bayes_cls = bayes_cls.fit(train_dtm,train_target)\n",
    "bayes_pred_cls = bayes_cls.predict(test_dtm)\n",
    "cm = confusion_matrix(test_target, bayes_pred_cls)\n",
    "classes = bayes_cls.classes_\n",
    "def plot_confusion_matrix(cm, classes, cmap=plt.cm.Blues):\n",
    "    plt.figure(figsize=(12,10)) \n",
    "    plt.imshow(cm, interpolation='nearest', cmap=cmap)\n",
    "    tick_marks = np.arange(len(classes))\n",
    "    plt.xticks(tick_marks, classes, rotation=45)\n",
    "    plt.yticks(tick_marks, classes)\n",
    "    plt.tight_layout()\n",
    "    plt.ylabel('True label')\n",
    "    plt.xlabel('Predicted label')\n",
    "    "
   ]
  },
  {
   "cell_type": "code",
   "execution_count": 180,
   "metadata": {
    "collapsed": false,
    "slideshow": {
     "slide_type": "-"
    }
   },
   "outputs": [
    {
     "data": {
      "image/png": "[encoded data removed]",
      "text/plain": [
       "<matplotlib.figure.Figure at 0x110b65410>"
      ]
     },
     "metadata": {},
     "output_type": "display_data"
    }
   ],
   "source": [
    "plot_confusion_matrix(cm,classes)"
   ]
  },
  {
   "cell_type": "markdown",
   "metadata": {
    "slideshow": {
     "slide_type": "slide"
    }
   },
   "source": [
    "## Validierung anhand der Wahrscheinlichkeit - ROC Kurven"
   ]
  },
  {
   "cell_type": "code",
   "execution_count": null,
   "metadata": {
    "collapsed": true,
    "slideshow": {
     "slide_type": "skip"
    }
   },
   "outputs": [],
   "source": [
    "import numpy as np\n",
    "import matplotlib.pyplot as plt\n",
    "import sklearn.naive_bayes\n",
    "from sklearn import svm, datasets\n",
    "from sklearn.metrics import roc_curve, auc\n",
    "from sklearn.cross_validation import train_test_split\n",
    "from sklearn.preprocessing import label_binarize\n",
    "from sklearn.multiclass import OneVsRestClassifier\n",
    "\n",
    "import warnings\n",
    "warnings.filterwarnings('ignore')\n",
    "\n",
    "def draw_roc(term_mat,target_classes):\n",
    "    classes = np.array(['project', 'course', 'other', 'student', 'faculty', 'department', 'staff'])\n",
    "    target_classes_bin = label_binarize(target_classes, classes=classes)\n",
    "    splitted = train_test_split(term_mat,target_classes_bin,test_size=0.25, random_state=42)\n",
    "    train_dtm, test_dtm, train_target, test_target = splitted\n",
    "    classifier = OneVsRestClassifier(sklearn.naive_bayes.MultinomialNB())\n",
    "    y_score = classifier.fit(train_dtm, train_target).predict_proba(test_dtm)\n",
    "\n",
    "    plt.figure()\n",
    "    plt.figure(figsize=(12,10)) \n",
    "    for i in range(len(classes)):\n",
    "        fpr, tpr, _ = roc_curve(test_target[:, i], y_score[:, i])\n",
    "        roc_auc = auc(fpr, tpr)\n",
    "        plt.plot(fpr, tpr, label='%s, area:%.2f' % (classes[i],roc_auc))\n",
    "\n",
    "    plt.plot([0, 1], [0, 1], 'k--')\n",
    "    plt.xlim([0.0, 1.0])\n",
    "    plt.ylim([0.0, 1.05])\n",
    "    plt.xlabel('False Positive Rate')\n",
    "    plt.ylabel('True Positive Rate')\n",
    "    plt.legend(loc=\"lower right\")\n",
    "    plt.show()\n",
    "    "
   ]
  },
  {
   "cell_type": "code",
   "execution_count": 137,
   "metadata": {
    "collapsed": false
   },
   "outputs": [
    {
     "data": {
      "text/plain": [
       "<matplotlib.figure.Figure at 0x124679310>"
      ]
     },
     "metadata": {},
     "output_type": "display_data"
    },
    {
     "data": {
      "image/png": "[encoded data removed]",
      "text/plain": [
       "<matplotlib.figure.Figure at 0x124679950>"
      ]
     },
     "metadata": {},
     "output_type": "display_data"
    }
   ],
   "source": [
    "draw_roc(term_mat,target_classes)"
   ]
  },
  {
   "cell_type": "markdown",
   "metadata": {
    "slideshow": {
     "slide_type": "slide"
    }
   },
   "source": [
    "# Ende - Abschluss und Ausblick"
   ]
  },
  {
   "cell_type": "markdown",
   "metadata": {
    "slideshow": {
     "slide_type": "slide"
    }
   },
   "source": [
    "## Wichtige Punkte\n",
    "- Classification und Clustering für Texte sind verbreite Verfahren\n",
    "- In den Grundzügen einfach zu verstehen und einzusetzen\n",
    "- Eine gute Umsetzung ist nicht einfach\n",
    "    - Es gibt eine Vielzahl von Wahlmöglichkeiten bei den Verfahren\n",
    "    - Das Verständnis der Daten ist wichtig\n",
    "    - Die Vorbereitung von Features können leicht 80% der Arbeit sein"
   ]
  },
  {
   "cell_type": "code",
   "execution_count": null,
   "metadata": {
    "collapsed": true,
    "slideshow": {
     "slide_type": "skip"
    }
   },
   "outputs": [],
   "source": []
  },
  {
   "cell_type": "code",
   "execution_count": null,
   "metadata": {
    "collapsed": true,
    "slideshow": {
     "slide_type": "skip"
    }
   },
   "outputs": [],
   "source": []
  },
  {
   "cell_type": "code",
   "execution_count": null,
   "metadata": {
    "collapsed": true,
    "slideshow": {
     "slide_type": "skip"
    }
   },
   "outputs": [],
   "source": []
  },
  {
   "cell_type": "code",
   "execution_count": null,
   "metadata": {
    "collapsed": true,
    "slideshow": {
     "slide_type": "skip"
    }
   },
   "outputs": [],
   "source": []
  },
  {
   "cell_type": "code",
   "execution_count": null,
   "metadata": {
    "collapsed": true,
    "slideshow": {
     "slide_type": "skip"
    }
   },
   "outputs": [],
   "source": []
  },
  {
   "cell_type": "code",
   "execution_count": null,
   "metadata": {
    "collapsed": true,
    "slideshow": {
     "slide_type": "skip"
    }
   },
   "outputs": [],
   "source": []
  },
  {
   "cell_type": "code",
   "execution_count": null,
   "metadata": {
    "collapsed": true,
    "slideshow": {
     "slide_type": "skip"
    }
   },
   "outputs": [],
   "source": []
  },
  {
   "cell_type": "code",
   "execution_count": null,
   "metadata": {
    "collapsed": true
   },
   "outputs": [],
   "source": []
  },
  {
   "cell_type": "code",
   "execution_count": 183,
   "metadata": {
    "collapsed": false,
    "slideshow": {
     "slide_type": "skip"
    }
   },
   "outputs": [
    {
     "data": {
      "text/html": [
       "\n",
       "\n",
       "<style>\n",
       "\n",
       ".rendered_html {\n",
       "    font-family: \"proxima-nova\", helvetica;\n",
       "    font-size: 120%;\n",
       "    line-height: 1.3;\n",
       "}\n",
       "\n",
       ".rendered_html h1 {\n",
       "    margin: 0.25em 0em 0.5em;\n",
       "    color: #015C9C;\n",
       "    text-align: center;\n",
       "    line-height: 1.2; \n",
       "    page-break-before: always;\n",
       "}\n",
       "\n",
       ".rendered_html h2 {\n",
       "    margin: 1.1em 0em 0.5em;\n",
       "    color: #26465D;\n",
       "    line-height: 1.2;\n",
       "}\n",
       "\n",
       ".rendered_html h3 {\n",
       "    margin: 1.1em 0em 0.5em;\n",
       "    color: #002845;\n",
       "    line-height: 1.2;\n",
       "}\n",
       "\n",
       ".rendered_html li {\n",
       "    line-height: 1.2; \n",
       "}\n",
       "\n",
       ".prompt {\n",
       "    font-size: 100%; \n",
       "}\n",
       "\n",
       ".CodeMirror-lines {\n",
       "    font-size: 100%; \n",
       "}\n",
       "\n",
       ".output_area {\n",
       "    font-size: 100%; \n",
       "}\n",
       "\n",
       "\n",
       "h1.bigtitle {\n",
       "    margin: 4cm 1cm 4cm 1cm;\n",
       "    font-size: 300%;\n",
       "}\n",
       "\n",
       "h3.point {\n",
       "    font-size: 200%;\n",
       "    text-align: center;\n",
       "    margin: 2em 0em 2em 0em;\n",
       "    #26465D\n",
       "}\n",
       "\n",
       ".sbpic {\n",
       "    margin: 10px 10px 10px 10px;\n",
       "}\n",
       "\n",
       "a.anchor-link {\n",
       "    display: none;\n",
       "}\n",
       "\n",
       "h1.title { \n",
       "    font-size: 250%;\n",
       "}\n",
       "\n",
       "\n",
       ".CodeMirror-code { width:100% !important; }\n",
       "\n",
       ".container { width:100% !important; }\n",
       "\n",
       "</style>\n"
      ],
      "text/plain": [
       "<IPython.core.display.HTML object>"
      ]
     },
     "metadata": {},
     "output_type": "display_data"
    },
    {
     "data": {
      "text/plain": [
       "{u'height': 768, u'width': 1024}"
      ]
     },
     "execution_count": 183,
     "metadata": {},
     "output_type": "execute_result"
    }
   ],
   "source": [
    "from IPython.display import display, HTML\n",
    "s = \"\"\"\n",
    "\n",
    "<style>\n",
    "\n",
    ".rendered_html {\n",
    "    font-family: \"proxima-nova\", helvetica;\n",
    "    font-size: 120%;\n",
    "    line-height: 1.3;\n",
    "}\n",
    "\n",
    ".rendered_html h1 {\n",
    "    margin: 0.25em 0em 0.5em;\n",
    "    color: #015C9C;\n",
    "    text-align: center;\n",
    "    line-height: 1.2; \n",
    "    page-break-before: always;\n",
    "}\n",
    "\n",
    ".rendered_html h2 {\n",
    "    margin: 1.1em 0em 0.5em;\n",
    "    color: #26465D;\n",
    "    line-height: 1.2;\n",
    "}\n",
    "\n",
    ".rendered_html h3 {\n",
    "    margin: 1.1em 0em 0.5em;\n",
    "    color: #002845;\n",
    "    line-height: 1.2;\n",
    "}\n",
    "\n",
    ".rendered_html li {\n",
    "    line-height: 1.2; \n",
    "}\n",
    "\n",
    ".prompt {\n",
    "    font-size: 100%; \n",
    "}\n",
    "\n",
    ".CodeMirror-lines {\n",
    "    font-size: 100%; \n",
    "}\n",
    "\n",
    ".output_area {\n",
    "    font-size: 100%; \n",
    "}\n",
    "\n",
    "\n",
    "h1.bigtitle {\n",
    "    margin: 4cm 1cm 4cm 1cm;\n",
    "    font-size: 300%;\n",
    "}\n",
    "\n",
    "h3.point {\n",
    "    font-size: 200%;\n",
    "    text-align: center;\n",
    "    margin: 2em 0em 2em 0em;\n",
    "    #26465D\n",
    "}\n",
    "\n",
    ".sbpic {\n",
    "    margin: 10px 10px 10px 10px;\n",
    "}\n",
    "\n",
    "a.anchor-link {\n",
    "    display: none;\n",
    "}\n",
    "\n",
    "h1.title { \n",
    "    font-size: 250%;\n",
    "}\n",
    "\n",
    "\n",
    ".CodeMirror-code { width:100% !important; }\n",
    "\n",
    ".container { width:100% !important; }\n",
    "\n",
    "</style>\n",
    "\"\"\"\n",
    "\n",
    "#slide-6-0 > div.cell.code_cell.rendered.selected > div.input > div.inner_cell > div.input_area > div > div.CodeMirror-scroll > div.CodeMirror-sizer > div > div > div > div.CodeMirror-code\n",
    "\n",
    "display(HTML(s))\n",
    "\n",
    "from IPython.html.services.config import ConfigManager\n",
    "from IPython.utils.path import locate_profile\n",
    "cm = ConfigManager(profile_dir=locate_profile(get_ipython().profile))\n",
    "cm.update('livereveal', {\n",
    "              'width': 1024,\n",
    "              'height': 768,\n",
    "})"
   ]
  },
  {
   "cell_type": "code",
   "execution_count": null,
   "metadata": {
    "collapsed": true
   },
   "outputs": [],
   "source": []
  }
 ],
 "metadata": {
  "celltoolbar": "Slideshow",
  "kernelspec": {
   "display_name": "Python 2",
   "language": "python",
   "name": "python2"
  },
  "language_info": {
   "codemirror_mode": {
    "name": "ipython",
    "version": 2
   },
   "file_extension": ".py",
   "mimetype": "text/x-python",
   "name": "python",
   "nbconvert_exporter": "python",
   "pygments_lexer": "ipython2",
   "version": "2.7.10"
  }
 },
 "nbformat": 4,
 "nbformat_minor": 0
}
